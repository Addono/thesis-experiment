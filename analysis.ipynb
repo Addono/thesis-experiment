{
 "cells": [
  {
   "cell_type": "code",
   "execution_count": 7,
   "metadata": {},
   "outputs": [],
   "source": [
    "from typing import Iterable\n",
    "\n",
    "import pandas as pd\n",
    "\n",
    "APPLICATION = \"postgresql-ha\"\n",
    "EXPERIMENTS = {\n",
    "    \"ct\": \"Control Test\",\n",
    "    \"pd\": \"Perturbation Disabled\",\n",
    "    \"vb\": \"Vary build\",\n",
    "    \"vp\": \"Vary patch\",\n",
    "    \"vm\": \"Vary Minor\",\n",
    "}\n"
   ]
  },
  {
   "cell_type": "code",
   "execution_count": 25,
   "metadata": {},
   "outputs": [
    {
     "data": {
      "text/plain": "                                 start_time  time_to_initialize  \\\nexperiment                                                        \nct         0  2020-08-10 14:05:56.242291927           78.602810   \n           1  2020-08-10 14:14:43.314725161           45.677756   \n           2  2020-08-10 14:22:17.197078943           68.845743   \n           3  2020-08-10 14:29:47.296878099           65.700319   \n           4  2020-08-10 14:37:04.917234898           53.025109   \n...                                     ...                 ...   \nvm         10 2020-08-11 00:03:26.578637123         1252.318634   \n           11 2020-08-11 00:31:17.515824795          136.770135   \n           12 2020-08-11 00:40:20.825722933         1447.455548   \n           13 2020-08-11 01:11:31.858479023          100.255906   \n           14 2020-08-11 01:20:15.198992968          202.227090   \n\n               time_to_first_request  time_to_all_requests  restarts  \\\nexperiment                                                             \nct         0               45.747801             70.021016         0   \n           1               27.764674             34.111991         0   \n           2               42.068355             68.319220         0   \n           3               38.411755             61.599261         0   \n           4               24.400544             34.525423         0   \n...                              ...                   ...       ...   \nvm         10              40.250844            264.640370        15   \n           11              39.712688            129.500411         7   \n           12             206.052714           1446.940320        35   \n           13              44.689342             99.800744         5   \n           14              69.759578            201.743801         7   \n\n                                   end_time  \nexperiment                                   \nct         0  2020-08-10 14:07:15.298298836  \n           1  2020-08-10 14:15:29.429429054  \n           2  2020-08-10 14:23:26.447458982  \n           3  2020-08-10 14:30:53.454533815  \n           4  2020-08-10 14:37:58.422300816  \n...                                     ...  \nvm         10 2020-08-11 00:24:19.328743935  \n           11 2020-08-11 00:33:34.770613909  \n           12 2020-08-11 01:04:28.698216915  \n           13 2020-08-11 01:13:12.581374884  \n           14 2020-08-11 01:23:37.883342028  \n\n[75 rows x 6 columns]",
      "text/html": "<div>\n<style scoped>\n    .dataframe tbody tr th:only-of-type {\n        vertical-align: middle;\n    }\n\n    .dataframe tbody tr th {\n        vertical-align: top;\n    }\n\n    .dataframe thead th {\n        text-align: right;\n    }\n</style>\n<table border=\"1\" class=\"dataframe\">\n  <thead>\n    <tr style=\"text-align: right;\">\n      <th></th>\n      <th></th>\n      <th>start_time</th>\n      <th>time_to_initialize</th>\n      <th>time_to_first_request</th>\n      <th>time_to_all_requests</th>\n      <th>restarts</th>\n      <th>end_time</th>\n    </tr>\n    <tr>\n      <th>experiment</th>\n      <th></th>\n      <th></th>\n      <th></th>\n      <th></th>\n      <th></th>\n      <th></th>\n      <th></th>\n    </tr>\n  </thead>\n  <tbody>\n    <tr>\n      <th rowspan=\"5\" valign=\"top\">ct</th>\n      <th>0</th>\n      <td>2020-08-10 14:05:56.242291927</td>\n      <td>78.602810</td>\n      <td>45.747801</td>\n      <td>70.021016</td>\n      <td>0</td>\n      <td>2020-08-10 14:07:15.298298836</td>\n    </tr>\n    <tr>\n      <th>1</th>\n      <td>2020-08-10 14:14:43.314725161</td>\n      <td>45.677756</td>\n      <td>27.764674</td>\n      <td>34.111991</td>\n      <td>0</td>\n      <td>2020-08-10 14:15:29.429429054</td>\n    </tr>\n    <tr>\n      <th>2</th>\n      <td>2020-08-10 14:22:17.197078943</td>\n      <td>68.845743</td>\n      <td>42.068355</td>\n      <td>68.319220</td>\n      <td>0</td>\n      <td>2020-08-10 14:23:26.447458982</td>\n    </tr>\n    <tr>\n      <th>3</th>\n      <td>2020-08-10 14:29:47.296878099</td>\n      <td>65.700319</td>\n      <td>38.411755</td>\n      <td>61.599261</td>\n      <td>0</td>\n      <td>2020-08-10 14:30:53.454533815</td>\n    </tr>\n    <tr>\n      <th>4</th>\n      <td>2020-08-10 14:37:04.917234898</td>\n      <td>53.025109</td>\n      <td>24.400544</td>\n      <td>34.525423</td>\n      <td>0</td>\n      <td>2020-08-10 14:37:58.422300816</td>\n    </tr>\n    <tr>\n      <th>...</th>\n      <th>...</th>\n      <td>...</td>\n      <td>...</td>\n      <td>...</td>\n      <td>...</td>\n      <td>...</td>\n      <td>...</td>\n    </tr>\n    <tr>\n      <th rowspan=\"5\" valign=\"top\">vm</th>\n      <th>10</th>\n      <td>2020-08-11 00:03:26.578637123</td>\n      <td>1252.318634</td>\n      <td>40.250844</td>\n      <td>264.640370</td>\n      <td>15</td>\n      <td>2020-08-11 00:24:19.328743935</td>\n    </tr>\n    <tr>\n      <th>11</th>\n      <td>2020-08-11 00:31:17.515824795</td>\n      <td>136.770135</td>\n      <td>39.712688</td>\n      <td>129.500411</td>\n      <td>7</td>\n      <td>2020-08-11 00:33:34.770613909</td>\n    </tr>\n    <tr>\n      <th>12</th>\n      <td>2020-08-11 00:40:20.825722933</td>\n      <td>1447.455548</td>\n      <td>206.052714</td>\n      <td>1446.940320</td>\n      <td>35</td>\n      <td>2020-08-11 01:04:28.698216915</td>\n    </tr>\n    <tr>\n      <th>13</th>\n      <td>2020-08-11 01:11:31.858479023</td>\n      <td>100.255906</td>\n      <td>44.689342</td>\n      <td>99.800744</td>\n      <td>5</td>\n      <td>2020-08-11 01:13:12.581374884</td>\n    </tr>\n    <tr>\n      <th>14</th>\n      <td>2020-08-11 01:20:15.198992968</td>\n      <td>202.227090</td>\n      <td>69.759578</td>\n      <td>201.743801</td>\n      <td>7</td>\n      <td>2020-08-11 01:23:37.883342028</td>\n    </tr>\n  </tbody>\n</table>\n<p>75 rows × 6 columns</p>\n</div>"
     },
     "execution_count": 25,
     "metadata": {},
     "output_type": "execute_result"
    }
   ],
   "source": [
    "# Read all datafiles as separate DataFrames\n",
    "dfs = {\n",
    "    experiment: pd.read_json(f\"{experiment}_{APPLICATION}.jsonl\", lines=True)\n",
    "    for experiment in EXPERIMENTS.keys()\n",
    "}\n",
    "\n",
    "# Combine all DataFrames\n",
    "df = pd.concat(dfs, names=[\"experiment\"])\n",
    "\n",
    "# Display the data loaded\n",
    "df"
   ]
  },
  {
   "cell_type": "code",
   "execution_count": 33,
   "metadata": {},
   "outputs": [
    {
     "data": {
      "text/plain": "           time_to_initialize                                                 \\\n                        count        mean         std        min         25%   \nexperiment                                                                     \nct                       15.0   57.186463   10.932179  41.761491   48.088035   \npd                       15.0   57.151247   10.696943  38.206558   48.392610   \nvb                       15.0   64.172951   17.778058  47.000679   49.425172   \nvp                       15.0  134.512461   65.742129  67.184681   85.477289   \nvm                       15.0  514.181989  510.241079  73.565047  116.271404   \n\n                                                time_to_first_request  \\\n                   50%         75%          max                 count   \nexperiment                                                              \nct           58.683177   64.690128    78.602810                  15.0   \npd           59.368324   63.233743    72.862813                  15.0   \nvb           61.391754   71.738503   115.057164                  15.0   \nvp          115.491939  169.056768   313.332355                  15.0   \nvm          230.658907  820.321670  1447.455548                  15.0   \n\n                       ... time_to_all_requests              restarts  \\\n                 mean  ...                  75%          max    count   \nexperiment             ...                                              \nct          30.048150  ...            45.617267    70.021016     15.0   \npd          32.246367  ...            51.987649    57.425403     15.0   \nvb          33.276684  ...            49.106638    67.146578     15.0   \nvp          46.067774  ...           168.111215   312.896556     15.0   \nvm          60.613639  ...           367.724391  1446.940320     15.0   \n\n                                                            \n                 mean       std  min  25%  50%   75%   max  \nexperiment                                                  \nct           0.000000  0.000000  0.0  0.0  0.0   0.0   0.0  \npd           0.000000  0.000000  0.0  0.0  0.0   0.0   0.0  \nvb           0.000000  0.000000  0.0  0.0  0.0   0.0   0.0  \nvp           3.866667  2.474633  0.0  2.0  3.0   6.0   8.0  \nvm          10.466667  8.592910  2.0  6.0  7.0  11.5  35.0  \n\n[5 rows x 32 columns]",
      "text/html": "<div>\n<style scoped>\n    .dataframe tbody tr th:only-of-type {\n        vertical-align: middle;\n    }\n\n    .dataframe tbody tr th {\n        vertical-align: top;\n    }\n\n    .dataframe thead tr th {\n        text-align: left;\n    }\n\n    .dataframe thead tr:last-of-type th {\n        text-align: right;\n    }\n</style>\n<table border=\"1\" class=\"dataframe\">\n  <thead>\n    <tr>\n      <th></th>\n      <th colspan=\"8\" halign=\"left\">time_to_initialize</th>\n      <th colspan=\"2\" halign=\"left\">time_to_first_request</th>\n      <th>...</th>\n      <th colspan=\"2\" halign=\"left\">time_to_all_requests</th>\n      <th colspan=\"8\" halign=\"left\">restarts</th>\n    </tr>\n    <tr>\n      <th></th>\n      <th>count</th>\n      <th>mean</th>\n      <th>std</th>\n      <th>min</th>\n      <th>25%</th>\n      <th>50%</th>\n      <th>75%</th>\n      <th>max</th>\n      <th>count</th>\n      <th>mean</th>\n      <th>...</th>\n      <th>75%</th>\n      <th>max</th>\n      <th>count</th>\n      <th>mean</th>\n      <th>std</th>\n      <th>min</th>\n      <th>25%</th>\n      <th>50%</th>\n      <th>75%</th>\n      <th>max</th>\n    </tr>\n    <tr>\n      <th>experiment</th>\n      <th></th>\n      <th></th>\n      <th></th>\n      <th></th>\n      <th></th>\n      <th></th>\n      <th></th>\n      <th></th>\n      <th></th>\n      <th></th>\n      <th></th>\n      <th></th>\n      <th></th>\n      <th></th>\n      <th></th>\n      <th></th>\n      <th></th>\n      <th></th>\n      <th></th>\n      <th></th>\n      <th></th>\n    </tr>\n  </thead>\n  <tbody>\n    <tr>\n      <th>ct</th>\n      <td>15.0</td>\n      <td>57.186463</td>\n      <td>10.932179</td>\n      <td>41.761491</td>\n      <td>48.088035</td>\n      <td>58.683177</td>\n      <td>64.690128</td>\n      <td>78.602810</td>\n      <td>15.0</td>\n      <td>30.048150</td>\n      <td>...</td>\n      <td>45.617267</td>\n      <td>70.021016</td>\n      <td>15.0</td>\n      <td>0.000000</td>\n      <td>0.000000</td>\n      <td>0.0</td>\n      <td>0.0</td>\n      <td>0.0</td>\n      <td>0.0</td>\n      <td>0.0</td>\n    </tr>\n    <tr>\n      <th>pd</th>\n      <td>15.0</td>\n      <td>57.151247</td>\n      <td>10.696943</td>\n      <td>38.206558</td>\n      <td>48.392610</td>\n      <td>59.368324</td>\n      <td>63.233743</td>\n      <td>72.862813</td>\n      <td>15.0</td>\n      <td>32.246367</td>\n      <td>...</td>\n      <td>51.987649</td>\n      <td>57.425403</td>\n      <td>15.0</td>\n      <td>0.000000</td>\n      <td>0.000000</td>\n      <td>0.0</td>\n      <td>0.0</td>\n      <td>0.0</td>\n      <td>0.0</td>\n      <td>0.0</td>\n    </tr>\n    <tr>\n      <th>vb</th>\n      <td>15.0</td>\n      <td>64.172951</td>\n      <td>17.778058</td>\n      <td>47.000679</td>\n      <td>49.425172</td>\n      <td>61.391754</td>\n      <td>71.738503</td>\n      <td>115.057164</td>\n      <td>15.0</td>\n      <td>33.276684</td>\n      <td>...</td>\n      <td>49.106638</td>\n      <td>67.146578</td>\n      <td>15.0</td>\n      <td>0.000000</td>\n      <td>0.000000</td>\n      <td>0.0</td>\n      <td>0.0</td>\n      <td>0.0</td>\n      <td>0.0</td>\n      <td>0.0</td>\n    </tr>\n    <tr>\n      <th>vp</th>\n      <td>15.0</td>\n      <td>134.512461</td>\n      <td>65.742129</td>\n      <td>67.184681</td>\n      <td>85.477289</td>\n      <td>115.491939</td>\n      <td>169.056768</td>\n      <td>313.332355</td>\n      <td>15.0</td>\n      <td>46.067774</td>\n      <td>...</td>\n      <td>168.111215</td>\n      <td>312.896556</td>\n      <td>15.0</td>\n      <td>3.866667</td>\n      <td>2.474633</td>\n      <td>0.0</td>\n      <td>2.0</td>\n      <td>3.0</td>\n      <td>6.0</td>\n      <td>8.0</td>\n    </tr>\n    <tr>\n      <th>vm</th>\n      <td>15.0</td>\n      <td>514.181989</td>\n      <td>510.241079</td>\n      <td>73.565047</td>\n      <td>116.271404</td>\n      <td>230.658907</td>\n      <td>820.321670</td>\n      <td>1447.455548</td>\n      <td>15.0</td>\n      <td>60.613639</td>\n      <td>...</td>\n      <td>367.724391</td>\n      <td>1446.940320</td>\n      <td>15.0</td>\n      <td>10.466667</td>\n      <td>8.592910</td>\n      <td>2.0</td>\n      <td>6.0</td>\n      <td>7.0</td>\n      <td>11.5</td>\n      <td>35.0</td>\n    </tr>\n  </tbody>\n</table>\n<p>5 rows × 32 columns</p>\n</div>"
     },
     "execution_count": 33,
     "metadata": {},
     "output_type": "execute_result"
    }
   ],
   "source": [
    "by_experiment = df.groupby(\"experiment\")\n",
    "\n",
    "by_experiment.describe()"
   ]
  },
  {
   "cell_type": "code",
   "execution_count": null,
   "outputs": [],
   "source": [],
   "metadata": {
    "collapsed": false,
    "pycharm": {
     "name": "#%%\n"
    }
   }
  }
 ],
 "metadata": {
  "kernelspec": {
   "display_name": "Python 3",
   "language": "python",
   "name": "python3"
  },
  "language_info": {
   "codemirror_mode": {
    "name": "ipython",
    "version": 3
   },
   "file_extension": ".py",
   "mimetype": "text/x-python",
   "name": "python",
   "nbconvert_exporter": "python",
   "pygments_lexer": "ipython3",
   "version": "3.8.3"
  }
 },
 "nbformat": 4,
 "nbformat_minor": 4
}